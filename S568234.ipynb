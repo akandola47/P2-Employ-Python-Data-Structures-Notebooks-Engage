{
 "cells": [
  {
   "cell_type": "code",
   "execution_count": null,
   "id": "14304efc-6184-494b-984c-a072535cc284",
   "metadata": {},
   "outputs": [],
   "source": []
  },
  {
   "cell_type": "markdown",
   "id": "94d93e22-0bb7-41e1-9006-aae1d3dd8c16",
   "metadata": {},
   "source": [
    "10. Create a new Jupyter Notebook (the name of the notebook should be your S number). Add a Markdown cell that contains your name. Add a Code cell and write Python that uses loops to draw the following pattern:\n",
    "\n",
    "```\n",
    "*      *\n",
    "**    **\n",
    "***  ***\n",
    "********\n",
    "```\n",
    "Make sure to add and submit both the new notebook and the changes to this notebook for this assignment."
   ]
  },
  {
   "cell_type": "code",
   "execution_count": 6,
   "id": "704010f7-34ba-4475-b999-4f1d10445b6a",
   "metadata": {},
   "outputs": [
    {
     "name": "stdout",
     "output_type": "stream",
     "text": [
      "*      *\n",
      "**    **\n",
      "***  ***\n",
      "********\n"
     ]
    }
   ],
   "source": [
    "number_rows=4\n",
    "\n",
    "for i in range (number_rows):\n",
    "    for j in range (i+1):\n",
    "         print(\"*\", end=\"\")\n",
    "\n",
    "    for k in range (2 * (number_rows - i -1)):\n",
    "        print(\" \", end=\"\")\n",
    "\n",
    "    for l in range (i+1):\n",
    "        print(\"*\", end = \"\")\n",
    "\n",
    "    print()"
   ]
  },
  {
   "cell_type": "code",
   "execution_count": null,
   "id": "0cab09e7-1616-4051-8819-a2109bb5a172",
   "metadata": {},
   "outputs": [],
   "source": []
  }
 ],
 "metadata": {
  "kernelspec": {
   "display_name": "Python (.venv)",
   "language": "python",
   "name": ".venv"
  },
  "language_info": {
   "codemirror_mode": {
    "name": "ipython",
    "version": 3
   },
   "file_extension": ".py",
   "mimetype": "text/x-python",
   "name": "python",
   "nbconvert_exporter": "python",
   "pygments_lexer": "ipython3",
   "version": "3.9.12"
  }
 },
 "nbformat": 4,
 "nbformat_minor": 5
}
